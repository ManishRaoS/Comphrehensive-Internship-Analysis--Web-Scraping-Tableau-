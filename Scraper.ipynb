{
 "cells": [
  {
   "cell_type": "code",
   "execution_count": 266,
   "metadata": {},
   "outputs": [],
   "source": [
    "!pip install selenium"
   ]
  },
  {
   "cell_type": "code",
   "execution_count": 267,
   "metadata": {},
   "outputs": [],
   "source": [
    "import numpy as np\n",
    "import pandas as pd\n",
    "import requests \n",
    "from pandasql import sqldf\n",
    "from bs4 import BeautifulSoup\n",
    "from selenium import webdriver\n",
    "from selenium.common.exceptions import NoSuchElementException\n",
    "from selenium.common.exceptions import StaleElementReferenceException\n",
    "from selenium.common.exceptions import TimeoutException\n",
    "from selenium.webdriver.common.by import By\n",
    "from selenium.webdriver.common.keys import Keys\n",
    "from selenium.webdriver.support.ui import WebDriverWait\n",
    "from selenium.webdriver.support import expected_conditions as ec\n",
    "import time\n",
    "import re"
   ]
  },
  {
   "cell_type": "code",
   "execution_count": 413,
   "metadata": {},
   "outputs": [],
   "source": [
    "driver = webdriver.Chrome(\"C:/Users/manis/Desktop/chromedriver/chromedriver.exe\")\n",
    "url = \"https://jindal.utdallas.edu/som/internship-stories/#loadNextStories\"\n",
    "driver.get(url)\n",
    "wait = WebDriverWait(driver, 10)\n",
    "\n",
    "degrees = [\"Business Analytics\", \"Accounting Flex\", \"Finance\", \n",
    "           \"Information Technology and Management\", \"Management Science\", \n",
    "           \"Marketing\", \"Supply Chain Management\"]\n",
    "\n",
    "href = []\n",
    "for degree in degrees:\n",
    "    input_degree = driver.find_element_by_xpath('//*[@id=\"semester-flexdatalist\"]')\n",
    "    input_degree.send_keys(degree)\n",
    "    \n",
    "    time.sleep(2)\n",
    "    try:\n",
    "        search_button = wait.until(ec.element_to_be_clickable((By.XPATH, '//*[@id=\"semester-flexdatalist-results\"]/li/span[1]/span')))\n",
    "        search_button.click()\n",
    "    except (NoSuchElementException, TimeoutException):\n",
    "        time.sleep(3)\n",
    "        search_button = wait.until(ec.element_to_be_clickable((By.XPATH, '//*[@id=\"semester-flexdatalist-results\"]/li/span[1]/span')))\n",
    "        search_button.click()\n",
    "\n",
    "    time.sleep(2)\n",
    "    educ_level = driver.find_element_by_xpath('//*[@id=\"all-level\"]/div[1]/input').click()\n",
    "    \n",
    "    time.sleep(2)\n",
    "    for i in range(1, 8):\n",
    "        n = 0\n",
    "        time.sleep(1)\n",
    "        reset = driver.find_element_by_xpath('//*[@id=\"semester\"]').click()\n",
    "        time.sleep(1)\n",
    "        term = driver.find_element_by_xpath('//*[@id=\"all-semester\"]/div[' + str(i) + ']/input').click()\n",
    "        time.sleep(3)\n",
    "        int_num = driver.find_element_by_xpath('//*[@id=\"mainhtml\"]/body/div[2]/div/div/div[2]/div[1]/div[1]/p').text\n",
    "        time.sleep(2)\n",
    "        int_num = int(int_num)\n",
    "        int_num\n",
    "        \n",
    "        if int_num == 0:\n",
    "            print(\"No internships in the following term\")\n",
    "            print(\"Degree : {} \\nTerm : {} \\nNumber of Internships : {}\".format(degree, i, int_num))\n",
    "            continue\n",
    "\n",
    "        for j in range(1, int_num + 1):\n",
    "            try:\n",
    "                time.sleep(1)\n",
    "                href_path = driver.find_element_by_xpath('//*[@id=\"mainhtml\"]/body/div[2]/div/div/div[2]/div[3]/div[' + str(j) + ']/div[2]/a').get_attribute(\"href\")\n",
    "                href.append(href_path)\n",
    "                n = n + 1\n",
    "            except NoSuchElementException:\n",
    "                break\n",
    "\n",
    "        print(\"Degree : {} \\nTerm : {} \\nNumber of Internships : {} \\nRecorded Number of Internships : {}\".format(degree, i, int_num, n))\n",
    "        \n",
    "    driver.back()\n",
    "\n",
    "driver.close()"
   ]
  },
  {
   "cell_type": "code",
   "execution_count": 142,
   "metadata": {},
   "outputs": [],
   "source": [
    "df_href = pd.DataFrame(href)"
   ]
  },
  {
   "cell_type": "code",
   "execution_count": 257,
   "metadata": {},
   "outputs": [
    {
     "data": {
      "text/html": [
       "<div>\n",
       "<style scoped>\n",
       "    .dataframe tbody tr th:only-of-type {\n",
       "        vertical-align: middle;\n",
       "    }\n",
       "\n",
       "    .dataframe tbody tr th {\n",
       "        vertical-align: top;\n",
       "    }\n",
       "\n",
       "    .dataframe thead th {\n",
       "        text-align: right;\n",
       "    }\n",
       "</style>\n",
       "<table border=\"1\" class=\"dataframe\">\n",
       "  <thead>\n",
       "    <tr style=\"text-align: right;\">\n",
       "      <th></th>\n",
       "      <th>story_links</th>\n",
       "    </tr>\n",
       "  </thead>\n",
       "  <tbody>\n",
       "    <tr>\n",
       "      <td>0</td>\n",
       "      <td>https://jindal.utdallas.edu/internship-stories...</td>\n",
       "    </tr>\n",
       "    <tr>\n",
       "      <td>1</td>\n",
       "      <td>https://jindal.utdallas.edu/internship-stories...</td>\n",
       "    </tr>\n",
       "    <tr>\n",
       "      <td>2</td>\n",
       "      <td>https://jindal.utdallas.edu/internship-stories...</td>\n",
       "    </tr>\n",
       "    <tr>\n",
       "      <td>3</td>\n",
       "      <td>https://jindal.utdallas.edu/internship-stories...</td>\n",
       "    </tr>\n",
       "    <tr>\n",
       "      <td>4</td>\n",
       "      <td>https://jindal.utdallas.edu/internship-stories...</td>\n",
       "    </tr>\n",
       "  </tbody>\n",
       "</table>\n",
       "</div>"
      ],
      "text/plain": [
       "                                         story_links\n",
       "0  https://jindal.utdallas.edu/internship-stories...\n",
       "1  https://jindal.utdallas.edu/internship-stories...\n",
       "2  https://jindal.utdallas.edu/internship-stories...\n",
       "3  https://jindal.utdallas.edu/internship-stories...\n",
       "4  https://jindal.utdallas.edu/internship-stories..."
      ]
     },
     "execution_count": 257,
     "metadata": {},
     "output_type": "execute_result"
    }
   ],
   "source": [
    "df_href.head()"
   ]
  },
  {
   "cell_type": "code",
   "execution_count": 562,
   "metadata": {},
   "outputs": [
    {
     "data": {
      "text/plain": [
       "(1282, 1)"
      ]
     },
     "execution_count": 562,
     "metadata": {},
     "output_type": "execute_result"
    }
   ],
   "source": [
    "df_href.shape"
   ]
  },
  {
   "cell_type": "code",
   "execution_count": 145,
   "metadata": {},
   "outputs": [],
   "source": [
    "df_href.to_excel(\"C:/Users/manis/Desktop/Scraper/df_href.xlsx\")"
   ]
  },
  {
   "cell_type": "code",
   "execution_count": 414,
   "metadata": {},
   "outputs": [],
   "source": [
    "df = pd.DataFrame(columns = [\"Student\", \"Degree\", \"Company\", \"Term\", \"Courses_Helped\", \"Source\", \"Link\"])\n",
    "\n",
    "for i in df_href[\"story_links\"]:\n",
    "    driver = webdriver.Chrome(\"C:/Users/manis/Desktop/chromedriver/chromedriver.exe\")\n",
    "    url = str(i)\n",
    "    driver.get(url)\n",
    "    wait = WebDriverWait(driver, 10)\n",
    "    \n",
    "    time.sleep(2) \n",
    "    heading = driver.find_element_by_xpath('//*[@id=\"mainhtml\"]/body/div[2]/div[1]/div/h1').text\n",
    "    try:\n",
    "        description, term = heading.split(\" - \")\n",
    "    except ValueError:\n",
    "        try:\n",
    "            description, invalid, term = heading.split(\" - \")\n",
    "        except ValueError:\n",
    "            try:\n",
    "                description, invalid1, invalid2, term = heading.split(\" - \")\n",
    "            except ValueError:\n",
    "                try:\n",
    "                    description, invalid1, invalid2, invalid3, term = heading.split(\" - \")\n",
    "                except ValueError:\n",
    "                    continue\n",
    "                \n",
    "    degree = driver.find_element_by_xpath('//*[@id=\"mainhtml\"]/body/div[2]/div[2]/p[1]').text\n",
    "    company = driver.find_element_by_xpath('//*[@id=\"mainhtml\"]/body/div[2]/div[2]/p[2]').text\n",
    "    course_header = driver.find_element_by_xpath('//*[@id=\"mainhtml\"]/body/div[2]/div[2]/h3[3]').text\n",
    "    \n",
    "    if course_header == \"Courses Helped\":\n",
    "        try:\n",
    "            courses_helped = driver.find_element_by_xpath('//*[@id=\"mainhtml\"]/body/div[2]/div[2]/p[3]').text\n",
    "            source_header = driver.find_element_by_xpath('//*[@id=\"mainhtml\"]/body/div[2]/div[2]/h3[5]').text\n",
    "            if source_header == \"What helped you to get this Internship?\":\n",
    "                try:\n",
    "                    source =  driver.find_element_by_xpath('//*[@id=\"mainhtml\"]/body/div[2]/div[2]/p[5]').text\n",
    "                    student = driver.find_element_by_xpath('//*[@id=\"mainhtml\"]/body/div[2]/div[2]/p[6]').text\n",
    "                except NoSuchElementException:\n",
    "                    source =  driver.find_element_by_xpath('//*[@id=\"mainhtml\"]/body/div[2]/div[2]/p[5]/text()').text\n",
    "                    student = driver.find_element_by_xpath('//*[@id=\"mainhtml\"]/body/div[2]/div[2]/p[6]').text\n",
    "            else:\n",
    "                source = np.nan\n",
    "                student = driver.find_element_by_xpath('//*[@id=\"mainhtml\"]/body/div[2]/div[2]/p[5]').text\n",
    "        except NoSuchElementException:\n",
    "            courses_helped = driver.find_element_by_xpath('//*[@id=\"mainhtml\"]/body/div[2]/div[2]/p[3]/text()').text\n",
    "            source_header = driver.find_element_by_xpath('//*[@id=\"mainhtml\"]/body/div[2]/div[2]/h3[5]').text\n",
    "            if source_header == \"What helped you to get this Internship?\":\n",
    "                try:\n",
    "                    source =  driver.find_element_by_xpath('//*[@id=\"mainhtml\"]/body/div[2]/div[2]/p[5]').text\n",
    "                    student = driver.find_element_by_xpath('//*[@id=\"mainhtml\"]/body/div[2]/div[2]/p[6]').text\n",
    "                except NoSuchElementException:\n",
    "                    source =  driver.find_element_by_xpath('//*[@id=\"mainhtml\"]/body/div[2]/div[2]/p[5]/text()').text\n",
    "                    student = driver.find_element_by_xpath('//*[@id=\"mainhtml\"]/body/div[2]/div[2]/p[6]').text\n",
    "            else:\n",
    "                source = np.nan\n",
    "                student = driver.find_element_by_xpath('//*[@id=\"mainhtml\"]/body/div[2]/div[2]/p[5]').text\n",
    "    else:\n",
    "        courses_helped = np.nan\n",
    "        source_header = driver.find_element_by_xpath('//*[@id=\"mainhtml\"]/body/div[2]/div[2]/h3[4]').text\n",
    "        if source_header == \"What helped you to get this Internship?\":\n",
    "            try:\n",
    "                source =  driver.find_element_by_xpath('//*[@id=\"mainhtml\"]/body/div[2]/div[2]/p[4]').text\n",
    "                student = driver.find_element_by_xpath('//*[@id=\"mainhtml\"]/body/div[2]/div[2]/p[5]').text\n",
    "            except NoSuchElementException:\n",
    "                source =  driver.find_element_by_xpath('//*[@id=\"mainhtml\"]/body/div[2]/div[2]/p[4]/text()').text\n",
    "                student = driver.find_element_by_xpath('//*[@id=\"mainhtml\"]/body/div[2]/div[2]/p[5]').text\n",
    "        else:\n",
    "            source = np.nan\n",
    "            student = driver.find_element_by_xpath('//*[@id=\"mainhtml\"]/body/div[2]/div[2]/p[4]').text\n",
    "    \n",
    "    df = df.append({\"Student\" : student,\n",
    "                    \"Degree\" : degree,\n",
    "                    \"Company\" : company,\n",
    "                    \"Term\" : term,\n",
    "                    \"Courses_Helped\" : courses_helped,\n",
    "                    \"Source\" : source,\n",
    "                    \"Link\" : url}, ignore_index=True)\n",
    "\n",
    "    driver.close()"
   ]
  },
  {
   "cell_type": "code",
   "execution_count": 293,
   "metadata": {},
   "outputs": [
    {
     "data": {
      "text/html": [
       "<div>\n",
       "<style scoped>\n",
       "    .dataframe tbody tr th:only-of-type {\n",
       "        vertical-align: middle;\n",
       "    }\n",
       "\n",
       "    .dataframe tbody tr th {\n",
       "        vertical-align: top;\n",
       "    }\n",
       "\n",
       "    .dataframe thead th {\n",
       "        text-align: right;\n",
       "    }\n",
       "</style>\n",
       "<table border=\"1\" class=\"dataframe\">\n",
       "  <thead>\n",
       "    <tr style=\"text-align: right;\">\n",
       "      <th></th>\n",
       "      <th>Unnamed: 0</th>\n",
       "      <th>Student</th>\n",
       "      <th>Degree</th>\n",
       "      <th>Company</th>\n",
       "      <th>Term</th>\n",
       "      <th>Courses_Helped</th>\n",
       "      <th>Source</th>\n",
       "      <th>Link</th>\n",
       "    </tr>\n",
       "  </thead>\n",
       "  <tbody>\n",
       "    <tr>\n",
       "      <td>0</td>\n",
       "      <td>0</td>\n",
       "      <td>Chakradhar Reddy Kothakapa</td>\n",
       "      <td>Business Analytics</td>\n",
       "      <td>American National Bank of Texas</td>\n",
       "      <td>Fall 2018</td>\n",
       "      <td>BUAN 6337: MKT PREDICTIVE ANALYTICS SAS</td>\n",
       "      <td>Internet (e.g. company website, job search eng...</td>\n",
       "      <td>https://jindal.utdallas.edu/internship-stories...</td>\n",
       "    </tr>\n",
       "    <tr>\n",
       "      <td>1</td>\n",
       "      <td>1</td>\n",
       "      <td>Jaypriya Ubriani</td>\n",
       "      <td>Business Analytics</td>\n",
       "      <td>Kanarys, Inc.</td>\n",
       "      <td>Fall 2018</td>\n",
       "      <td>NaN</td>\n",
       "      <td>Internet (e.g. company website, job search eng...</td>\n",
       "      <td>https://jindal.utdallas.edu/internship-stories...</td>\n",
       "    </tr>\n",
       "    <tr>\n",
       "      <td>2</td>\n",
       "      <td>2</td>\n",
       "      <td>Huizhen Chen</td>\n",
       "      <td>Business Analytics</td>\n",
       "      <td>East Capital Funding</td>\n",
       "      <td>Fall 2018</td>\n",
       "      <td>MIS 6380: DATA VISUALIZATION, OPRE 6302: OPERA...</td>\n",
       "      <td>JSOM Handshake</td>\n",
       "      <td>https://jindal.utdallas.edu/internship-stories...</td>\n",
       "    </tr>\n",
       "    <tr>\n",
       "      <td>3</td>\n",
       "      <td>3</td>\n",
       "      <td>Di Lei</td>\n",
       "      <td>Business Analytics</td>\n",
       "      <td>Alpha Business Images</td>\n",
       "      <td>Fall 2018</td>\n",
       "      <td>MIS 6344: WEB ANALYTICS</td>\n",
       "      <td>Internet (e.g. company website, job search eng...</td>\n",
       "      <td>https://jindal.utdallas.edu/internship-stories...</td>\n",
       "    </tr>\n",
       "    <tr>\n",
       "      <td>4</td>\n",
       "      <td>4</td>\n",
       "      <td>Rahul Singh</td>\n",
       "      <td>Business Analytics</td>\n",
       "      <td>Adobe Systems</td>\n",
       "      <td>Fall 2018</td>\n",
       "      <td>BUAN 6337: MKT PREDICTIVE ANALYTICS SAS</td>\n",
       "      <td>Internet (e.g. company website, job search eng...</td>\n",
       "      <td>https://jindal.utdallas.edu/internship-stories...</td>\n",
       "    </tr>\n",
       "  </tbody>\n",
       "</table>\n",
       "</div>"
      ],
      "text/plain": [
       "   Unnamed: 0                     Student              Degree  \\\n",
       "0           0  Chakradhar Reddy Kothakapa  Business Analytics   \n",
       "1           1            Jaypriya Ubriani  Business Analytics   \n",
       "2           2                Huizhen Chen  Business Analytics   \n",
       "3           3                      Di Lei  Business Analytics   \n",
       "4           4                 Rahul Singh  Business Analytics   \n",
       "\n",
       "                           Company       Term  \\\n",
       "0  American National Bank of Texas  Fall 2018   \n",
       "1                    Kanarys, Inc.  Fall 2018   \n",
       "2             East Capital Funding  Fall 2018   \n",
       "3            Alpha Business Images  Fall 2018   \n",
       "4                    Adobe Systems  Fall 2018   \n",
       "\n",
       "                                      Courses_Helped  \\\n",
       "0            BUAN 6337: MKT PREDICTIVE ANALYTICS SAS   \n",
       "1                                                NaN   \n",
       "2  MIS 6380: DATA VISUALIZATION, OPRE 6302: OPERA...   \n",
       "3                            MIS 6344: WEB ANALYTICS   \n",
       "4            BUAN 6337: MKT PREDICTIVE ANALYTICS SAS   \n",
       "\n",
       "                                              Source  \\\n",
       "0  Internet (e.g. company website, job search eng...   \n",
       "1  Internet (e.g. company website, job search eng...   \n",
       "2                                     JSOM Handshake   \n",
       "3  Internet (e.g. company website, job search eng...   \n",
       "4  Internet (e.g. company website, job search eng...   \n",
       "\n",
       "                                                Link  \n",
       "0  https://jindal.utdallas.edu/internship-stories...  \n",
       "1  https://jindal.utdallas.edu/internship-stories...  \n",
       "2  https://jindal.utdallas.edu/internship-stories...  \n",
       "3  https://jindal.utdallas.edu/internship-stories...  \n",
       "4  https://jindal.utdallas.edu/internship-stories...  "
      ]
     },
     "execution_count": 293,
     "metadata": {},
     "output_type": "execute_result"
    }
   ],
   "source": [
    "df.head()"
   ]
  },
  {
   "cell_type": "code",
   "execution_count": 294,
   "metadata": {},
   "outputs": [
    {
     "name": "stdout",
     "output_type": "stream",
     "text": [
      "The shape of the dataframe : (1282, 8)\n"
     ]
    }
   ],
   "source": [
    "print(\"The shape of the dataframe : {}\".format(df.shape))"
   ]
  },
  {
   "cell_type": "code",
   "execution_count": 194,
   "metadata": {},
   "outputs": [],
   "source": [
    "df.to_excel(\"C:/Users/manis/Desktop/Scraper/data.xlsx\")"
   ]
  },
  {
   "cell_type": "code",
   "execution_count": 550,
   "metadata": {},
   "outputs": [],
   "source": [
    "df = pd.read_excel(\"data.xlsx\")"
   ]
  },
  {
   "cell_type": "code",
   "execution_count": 551,
   "metadata": {},
   "outputs": [],
   "source": [
    "df[df.columns] = df[df.columns].astype(str)"
   ]
  },
  {
   "cell_type": "code",
   "execution_count": 552,
   "metadata": {},
   "outputs": [],
   "source": [
    "def RemoveBrackets(string):\n",
    "    clean = re.sub(r\" ?\\([^)]+\\)\", \"\", string)\n",
    "    return clean"
   ]
  },
  {
   "cell_type": "code",
   "execution_count": 553,
   "metadata": {},
   "outputs": [],
   "source": [
    "df[\"Source\"] = df[\"Source\"].apply(RemoveBrackets)"
   ]
  },
  {
   "cell_type": "code",
   "execution_count": 554,
   "metadata": {},
   "outputs": [
    {
     "data": {
      "text/html": [
       "<div>\n",
       "<style scoped>\n",
       "    .dataframe tbody tr th:only-of-type {\n",
       "        vertical-align: middle;\n",
       "    }\n",
       "\n",
       "    .dataframe tbody tr th {\n",
       "        vertical-align: top;\n",
       "    }\n",
       "\n",
       "    .dataframe thead th {\n",
       "        text-align: right;\n",
       "    }\n",
       "</style>\n",
       "<table border=\"1\" class=\"dataframe\">\n",
       "  <thead>\n",
       "    <tr style=\"text-align: right;\">\n",
       "      <th></th>\n",
       "      <th>Student</th>\n",
       "      <th>Degree</th>\n",
       "      <th>Company</th>\n",
       "      <th>Term</th>\n",
       "      <th>Courses_Helped</th>\n",
       "      <th>Source</th>\n",
       "      <th>Link</th>\n",
       "    </tr>\n",
       "  </thead>\n",
       "  <tbody>\n",
       "    <tr>\n",
       "      <td>0</td>\n",
       "      <td>Chakradhar Reddy Kothakapa</td>\n",
       "      <td>Business Analytics</td>\n",
       "      <td>American National Bank of Texas</td>\n",
       "      <td>Fall 2018</td>\n",
       "      <td>BUAN 6337: MKT PREDICTIVE ANALYTICS SAS</td>\n",
       "      <td>Internet, Personal connection</td>\n",
       "      <td>https://jindal.utdallas.edu/internship-stories...</td>\n",
       "    </tr>\n",
       "    <tr>\n",
       "      <td>1</td>\n",
       "      <td>Jaypriya Ubriani</td>\n",
       "      <td>Business Analytics</td>\n",
       "      <td>Kanarys, Inc.</td>\n",
       "      <td>Fall 2018</td>\n",
       "      <td>nan</td>\n",
       "      <td>Internet, Personal connection</td>\n",
       "      <td>https://jindal.utdallas.edu/internship-stories...</td>\n",
       "    </tr>\n",
       "    <tr>\n",
       "      <td>2</td>\n",
       "      <td>Huizhen Chen</td>\n",
       "      <td>Business Analytics</td>\n",
       "      <td>East Capital Funding</td>\n",
       "      <td>Fall 2018</td>\n",
       "      <td>MIS 6380: DATA VISUALIZATION, OPRE 6302: OPERA...</td>\n",
       "      <td>JSOM Handshake</td>\n",
       "      <td>https://jindal.utdallas.edu/internship-stories...</td>\n",
       "    </tr>\n",
       "    <tr>\n",
       "      <td>3</td>\n",
       "      <td>Di Lei</td>\n",
       "      <td>Business Analytics</td>\n",
       "      <td>Alpha Business Images</td>\n",
       "      <td>Fall 2018</td>\n",
       "      <td>MIS 6344: WEB ANALYTICS</td>\n",
       "      <td>Internet</td>\n",
       "      <td>https://jindal.utdallas.edu/internship-stories...</td>\n",
       "    </tr>\n",
       "    <tr>\n",
       "      <td>4</td>\n",
       "      <td>Rahul Singh</td>\n",
       "      <td>Business Analytics</td>\n",
       "      <td>Adobe Systems</td>\n",
       "      <td>Fall 2018</td>\n",
       "      <td>BUAN 6337: MKT PREDICTIVE ANALYTICS SAS</td>\n",
       "      <td>Internet, Personal connection, Professional De...</td>\n",
       "      <td>https://jindal.utdallas.edu/internship-stories...</td>\n",
       "    </tr>\n",
       "  </tbody>\n",
       "</table>\n",
       "</div>"
      ],
      "text/plain": [
       "                      Student              Degree  \\\n",
       "0  Chakradhar Reddy Kothakapa  Business Analytics   \n",
       "1            Jaypriya Ubriani  Business Analytics   \n",
       "2                Huizhen Chen  Business Analytics   \n",
       "3                      Di Lei  Business Analytics   \n",
       "4                 Rahul Singh  Business Analytics   \n",
       "\n",
       "                           Company       Term  \\\n",
       "0  American National Bank of Texas  Fall 2018   \n",
       "1                    Kanarys, Inc.  Fall 2018   \n",
       "2             East Capital Funding  Fall 2018   \n",
       "3            Alpha Business Images  Fall 2018   \n",
       "4                    Adobe Systems  Fall 2018   \n",
       "\n",
       "                                      Courses_Helped  \\\n",
       "0            BUAN 6337: MKT PREDICTIVE ANALYTICS SAS   \n",
       "1                                                nan   \n",
       "2  MIS 6380: DATA VISUALIZATION, OPRE 6302: OPERA...   \n",
       "3                            MIS 6344: WEB ANALYTICS   \n",
       "4            BUAN 6337: MKT PREDICTIVE ANALYTICS SAS   \n",
       "\n",
       "                                              Source  \\\n",
       "0                      Internet, Personal connection   \n",
       "1                      Internet, Personal connection   \n",
       "2                                     JSOM Handshake   \n",
       "3                                           Internet   \n",
       "4  Internet, Personal connection, Professional De...   \n",
       "\n",
       "                                                Link  \n",
       "0  https://jindal.utdallas.edu/internship-stories...  \n",
       "1  https://jindal.utdallas.edu/internship-stories...  \n",
       "2  https://jindal.utdallas.edu/internship-stories...  \n",
       "3  https://jindal.utdallas.edu/internship-stories...  \n",
       "4  https://jindal.utdallas.edu/internship-stories...  "
      ]
     },
     "execution_count": 554,
     "metadata": {},
     "output_type": "execute_result"
    }
   ],
   "source": [
    "df.head()"
   ]
  },
  {
   "cell_type": "code",
   "execution_count": 555,
   "metadata": {},
   "outputs": [
    {
     "data": {
      "text/plain": [
       "Business Analytics                            396\n",
       "Information Technology and Management         393\n",
       "Supply Chain Management                       223\n",
       "Accounting Flex                               122\n",
       "Management Science                             88\n",
       "Supply Chain Management, MBA                   23\n",
       "Business Analytics, MBA                        18\n",
       "Information Technology and Management, MBA     12\n",
       "Management Science, MBA                         7\n",
       "Name: Degree, dtype: int64"
      ]
     },
     "execution_count": 555,
     "metadata": {},
     "output_type": "execute_result"
    }
   ],
   "source": [
    "df[\"Degree\"].value_counts()"
   ]
  },
  {
   "cell_type": "code",
   "execution_count": 556,
   "metadata": {},
   "outputs": [],
   "source": [
    "def ITM(string):\n",
    "    if string == \"Information Technology and Management\":\n",
    "        degrees = \"IT and Management\"\n",
    "    elif string == \"Information Technology and Management, MBA\":\n",
    "        degrees = \"IT and Management, MBA\"\n",
    "    else:\n",
    "        degrees = string\n",
    "    \n",
    "    return degrees"
   ]
  },
  {
   "cell_type": "code",
   "execution_count": 557,
   "metadata": {},
   "outputs": [],
   "source": [
    "df[\"Degree\"] = df[\"Degree\"].apply(ITM)"
   ]
  },
  {
   "cell_type": "code",
   "execution_count": 558,
   "metadata": {},
   "outputs": [
    {
     "data": {
      "text/plain": [
       "Business Analytics              396\n",
       "IT and Management               393\n",
       "Supply Chain Management         223\n",
       "Accounting Flex                 122\n",
       "Management Science               88\n",
       "Supply Chain Management, MBA     23\n",
       "Business Analytics, MBA          18\n",
       "IT and Management, MBA           12\n",
       "Management Science, MBA           7\n",
       "Name: Degree, dtype: int64"
      ]
     },
     "execution_count": 558,
     "metadata": {},
     "output_type": "execute_result"
    }
   ],
   "source": [
    "df[\"Degree\"].value_counts()"
   ]
  },
  {
   "cell_type": "code",
   "execution_count": 559,
   "metadata": {},
   "outputs": [],
   "source": [
    "df_new = df[df[\"Term\"] != \"Spring 2018\"]\n",
    "df_new = df[df[\"Term\"] != \"Summer 2018\"]"
   ]
  },
  {
   "cell_type": "code",
   "execution_count": 560,
   "metadata": {},
   "outputs": [
    {
     "data": {
      "text/plain": [
       "Spring 2019    325\n",
       "Summer 2019    317\n",
       "Fall 2019      317\n",
       "Fall 2018      301\n",
       "Spring 2020     15\n",
       "Spring 2018      6\n",
       "Name: Term, dtype: int64"
      ]
     },
     "execution_count": 560,
     "metadata": {},
     "output_type": "execute_result"
    }
   ],
   "source": [
    "df_new[\"Term\"].value_counts()"
   ]
  },
  {
   "cell_type": "code",
   "execution_count": 561,
   "metadata": {},
   "outputs": [],
   "source": [
    "df_new.to_excel(\"C:/Users/manis/Desktop/Scraper/new_data.xlsx\")"
   ]
  },
  {
   "cell_type": "code",
   "execution_count": 531,
   "metadata": {},
   "outputs": [],
   "source": [
    "split_courses = (df.set_index(df.columns.drop('Courses_Helped',1).tolist())\n",
    "                        .Courses_Helped.str.split(', ', expand=True)\n",
    "                        .stack()\n",
    "                        .reset_index()\n",
    "                        .rename(columns={0:'Courses_Helped'})\n",
    "                        .loc[:, df.columns])"
   ]
  },
  {
   "cell_type": "code",
   "execution_count": 532,
   "metadata": {},
   "outputs": [
    {
     "data": {
      "text/html": [
       "<div>\n",
       "<style scoped>\n",
       "    .dataframe tbody tr th:only-of-type {\n",
       "        vertical-align: middle;\n",
       "    }\n",
       "\n",
       "    .dataframe tbody tr th {\n",
       "        vertical-align: top;\n",
       "    }\n",
       "\n",
       "    .dataframe thead th {\n",
       "        text-align: right;\n",
       "    }\n",
       "</style>\n",
       "<table border=\"1\" class=\"dataframe\">\n",
       "  <thead>\n",
       "    <tr style=\"text-align: right;\">\n",
       "      <th></th>\n",
       "      <th>Student</th>\n",
       "      <th>Degree</th>\n",
       "      <th>Company</th>\n",
       "      <th>Term</th>\n",
       "      <th>Courses_Helped</th>\n",
       "      <th>Source</th>\n",
       "      <th>Link</th>\n",
       "    </tr>\n",
       "  </thead>\n",
       "  <tbody>\n",
       "    <tr>\n",
       "      <td>0</td>\n",
       "      <td>Chakradhar Reddy Kothakapa</td>\n",
       "      <td>Business Analytics</td>\n",
       "      <td>American National Bank of Texas</td>\n",
       "      <td>Fall 2018</td>\n",
       "      <td>BUAN 6337: MKT PREDICTIVE ANALYTICS SAS</td>\n",
       "      <td>Internet, Personal connection</td>\n",
       "      <td>https://jindal.utdallas.edu/internship-stories...</td>\n",
       "    </tr>\n",
       "    <tr>\n",
       "      <td>1</td>\n",
       "      <td>Jaypriya Ubriani</td>\n",
       "      <td>Business Analytics</td>\n",
       "      <td>Kanarys, Inc.</td>\n",
       "      <td>Fall 2018</td>\n",
       "      <td>nan</td>\n",
       "      <td>Internet, Personal connection</td>\n",
       "      <td>https://jindal.utdallas.edu/internship-stories...</td>\n",
       "    </tr>\n",
       "    <tr>\n",
       "      <td>2</td>\n",
       "      <td>Huizhen Chen</td>\n",
       "      <td>Business Analytics</td>\n",
       "      <td>East Capital Funding</td>\n",
       "      <td>Fall 2018</td>\n",
       "      <td>MIS 6380: DATA VISUALIZATION</td>\n",
       "      <td>JSOM Handshake</td>\n",
       "      <td>https://jindal.utdallas.edu/internship-stories...</td>\n",
       "    </tr>\n",
       "    <tr>\n",
       "      <td>3</td>\n",
       "      <td>Huizhen Chen</td>\n",
       "      <td>Business Analytics</td>\n",
       "      <td>East Capital Funding</td>\n",
       "      <td>Fall 2018</td>\n",
       "      <td>OPRE 6302: OPERATIONS MANAGEMENT</td>\n",
       "      <td>JSOM Handshake</td>\n",
       "      <td>https://jindal.utdallas.edu/internship-stories...</td>\n",
       "    </tr>\n",
       "    <tr>\n",
       "      <td>4</td>\n",
       "      <td>Di Lei</td>\n",
       "      <td>Business Analytics</td>\n",
       "      <td>Alpha Business Images</td>\n",
       "      <td>Fall 2018</td>\n",
       "      <td>MIS 6344: WEB ANALYTICS</td>\n",
       "      <td>Internet</td>\n",
       "      <td>https://jindal.utdallas.edu/internship-stories...</td>\n",
       "    </tr>\n",
       "  </tbody>\n",
       "</table>\n",
       "</div>"
      ],
      "text/plain": [
       "                      Student              Degree  \\\n",
       "0  Chakradhar Reddy Kothakapa  Business Analytics   \n",
       "1            Jaypriya Ubriani  Business Analytics   \n",
       "2                Huizhen Chen  Business Analytics   \n",
       "3                Huizhen Chen  Business Analytics   \n",
       "4                      Di Lei  Business Analytics   \n",
       "\n",
       "                           Company       Term  \\\n",
       "0  American National Bank of Texas  Fall 2018   \n",
       "1                    Kanarys, Inc.  Fall 2018   \n",
       "2             East Capital Funding  Fall 2018   \n",
       "3             East Capital Funding  Fall 2018   \n",
       "4            Alpha Business Images  Fall 2018   \n",
       "\n",
       "                            Courses_Helped                         Source  \\\n",
       "0  BUAN 6337: MKT PREDICTIVE ANALYTICS SAS  Internet, Personal connection   \n",
       "1                                      nan  Internet, Personal connection   \n",
       "2             MIS 6380: DATA VISUALIZATION                 JSOM Handshake   \n",
       "3         OPRE 6302: OPERATIONS MANAGEMENT                 JSOM Handshake   \n",
       "4                  MIS 6344: WEB ANALYTICS                       Internet   \n",
       "\n",
       "                                                Link  \n",
       "0  https://jindal.utdallas.edu/internship-stories...  \n",
       "1  https://jindal.utdallas.edu/internship-stories...  \n",
       "2  https://jindal.utdallas.edu/internship-stories...  \n",
       "3  https://jindal.utdallas.edu/internship-stories...  \n",
       "4  https://jindal.utdallas.edu/internship-stories...  "
      ]
     },
     "execution_count": 532,
     "metadata": {},
     "output_type": "execute_result"
    }
   ],
   "source": [
    "split_courses.head()"
   ]
  },
  {
   "cell_type": "code",
   "execution_count": 533,
   "metadata": {},
   "outputs": [],
   "source": [
    "split_courses[\"Courses_Helped\"] = split_courses[\"Courses_Helped\"].replace(\"nan\", np.nan)\n",
    "split_courses[\"Source\"] = split_courses[\"Source\"].replace(\"nan\", np.nan)"
   ]
  },
  {
   "cell_type": "code",
   "execution_count": 534,
   "metadata": {},
   "outputs": [],
   "source": [
    "split_courses = split_courses.dropna()"
   ]
  },
  {
   "cell_type": "code",
   "execution_count": 535,
   "metadata": {},
   "outputs": [
    {
     "data": {
      "text/plain": [
       "Fall 2019      753\n",
       "Summer 2019    699\n",
       "Spring 2019    638\n",
       "Fall 2018      584\n",
       "Spring 2020     41\n",
       "Spring 2018      8\n",
       "Summer 2018      1\n",
       "Name: Term, dtype: int64"
      ]
     },
     "execution_count": 535,
     "metadata": {},
     "output_type": "execute_result"
    }
   ],
   "source": [
    "split_courses[\"Term\"].value_counts()"
   ]
  },
  {
   "cell_type": "code",
   "execution_count": 536,
   "metadata": {},
   "outputs": [],
   "source": [
    "split_courses = split_courses[split_courses[\"Term\"] != \"Spring 2018\"]\n",
    "split_courses = split_courses[split_courses[\"Term\"] != \"Summer 2018\"]"
   ]
  },
  {
   "cell_type": "code",
   "execution_count": 537,
   "metadata": {},
   "outputs": [
    {
     "data": {
      "text/html": [
       "<div>\n",
       "<style scoped>\n",
       "    .dataframe tbody tr th:only-of-type {\n",
       "        vertical-align: middle;\n",
       "    }\n",
       "\n",
       "    .dataframe tbody tr th {\n",
       "        vertical-align: top;\n",
       "    }\n",
       "\n",
       "    .dataframe thead th {\n",
       "        text-align: right;\n",
       "    }\n",
       "</style>\n",
       "<table border=\"1\" class=\"dataframe\">\n",
       "  <thead>\n",
       "    <tr style=\"text-align: right;\">\n",
       "      <th></th>\n",
       "      <th>Student</th>\n",
       "      <th>Degree</th>\n",
       "      <th>Company</th>\n",
       "      <th>Term</th>\n",
       "      <th>Courses_Helped</th>\n",
       "      <th>Source</th>\n",
       "      <th>Link</th>\n",
       "    </tr>\n",
       "  </thead>\n",
       "  <tbody>\n",
       "    <tr>\n",
       "      <td>0</td>\n",
       "      <td>Chakradhar Reddy Kothakapa</td>\n",
       "      <td>Business Analytics</td>\n",
       "      <td>American National Bank of Texas</td>\n",
       "      <td>Fall 2018</td>\n",
       "      <td>BUAN 6337: MKT PREDICTIVE ANALYTICS SAS</td>\n",
       "      <td>Internet, Personal connection</td>\n",
       "      <td>https://jindal.utdallas.edu/internship-stories...</td>\n",
       "    </tr>\n",
       "    <tr>\n",
       "      <td>2</td>\n",
       "      <td>Huizhen Chen</td>\n",
       "      <td>Business Analytics</td>\n",
       "      <td>East Capital Funding</td>\n",
       "      <td>Fall 2018</td>\n",
       "      <td>MIS 6380: DATA VISUALIZATION</td>\n",
       "      <td>JSOM Handshake</td>\n",
       "      <td>https://jindal.utdallas.edu/internship-stories...</td>\n",
       "    </tr>\n",
       "    <tr>\n",
       "      <td>3</td>\n",
       "      <td>Huizhen Chen</td>\n",
       "      <td>Business Analytics</td>\n",
       "      <td>East Capital Funding</td>\n",
       "      <td>Fall 2018</td>\n",
       "      <td>OPRE 6302: OPERATIONS MANAGEMENT</td>\n",
       "      <td>JSOM Handshake</td>\n",
       "      <td>https://jindal.utdallas.edu/internship-stories...</td>\n",
       "    </tr>\n",
       "    <tr>\n",
       "      <td>4</td>\n",
       "      <td>Di Lei</td>\n",
       "      <td>Business Analytics</td>\n",
       "      <td>Alpha Business Images</td>\n",
       "      <td>Fall 2018</td>\n",
       "      <td>MIS 6344: WEB ANALYTICS</td>\n",
       "      <td>Internet</td>\n",
       "      <td>https://jindal.utdallas.edu/internship-stories...</td>\n",
       "    </tr>\n",
       "    <tr>\n",
       "      <td>5</td>\n",
       "      <td>Rahul Singh</td>\n",
       "      <td>Business Analytics</td>\n",
       "      <td>Adobe Systems</td>\n",
       "      <td>Fall 2018</td>\n",
       "      <td>BUAN 6337: MKT PREDICTIVE ANALYTICS SAS</td>\n",
       "      <td>Internet, Personal connection, Professional De...</td>\n",
       "      <td>https://jindal.utdallas.edu/internship-stories...</td>\n",
       "    </tr>\n",
       "  </tbody>\n",
       "</table>\n",
       "</div>"
      ],
      "text/plain": [
       "                      Student              Degree  \\\n",
       "0  Chakradhar Reddy Kothakapa  Business Analytics   \n",
       "2                Huizhen Chen  Business Analytics   \n",
       "3                Huizhen Chen  Business Analytics   \n",
       "4                      Di Lei  Business Analytics   \n",
       "5                 Rahul Singh  Business Analytics   \n",
       "\n",
       "                           Company       Term  \\\n",
       "0  American National Bank of Texas  Fall 2018   \n",
       "2             East Capital Funding  Fall 2018   \n",
       "3             East Capital Funding  Fall 2018   \n",
       "4            Alpha Business Images  Fall 2018   \n",
       "5                    Adobe Systems  Fall 2018   \n",
       "\n",
       "                            Courses_Helped  \\\n",
       "0  BUAN 6337: MKT PREDICTIVE ANALYTICS SAS   \n",
       "2             MIS 6380: DATA VISUALIZATION   \n",
       "3         OPRE 6302: OPERATIONS MANAGEMENT   \n",
       "4                  MIS 6344: WEB ANALYTICS   \n",
       "5  BUAN 6337: MKT PREDICTIVE ANALYTICS SAS   \n",
       "\n",
       "                                              Source  \\\n",
       "0                      Internet, Personal connection   \n",
       "2                                     JSOM Handshake   \n",
       "3                                     JSOM Handshake   \n",
       "4                                           Internet   \n",
       "5  Internet, Personal connection, Professional De...   \n",
       "\n",
       "                                                Link  \n",
       "0  https://jindal.utdallas.edu/internship-stories...  \n",
       "2  https://jindal.utdallas.edu/internship-stories...  \n",
       "3  https://jindal.utdallas.edu/internship-stories...  \n",
       "4  https://jindal.utdallas.edu/internship-stories...  \n",
       "5  https://jindal.utdallas.edu/internship-stories...  "
      ]
     },
     "execution_count": 537,
     "metadata": {},
     "output_type": "execute_result"
    }
   ],
   "source": [
    "split_courses.head()"
   ]
  },
  {
   "cell_type": "code",
   "execution_count": 538,
   "metadata": {},
   "outputs": [],
   "source": [
    "split_courses.to_excel(\"C:/Users/manis/Desktop/Scraper/courses.xlsx\")"
   ]
  },
  {
   "cell_type": "code",
   "execution_count": 539,
   "metadata": {},
   "outputs": [],
   "source": [
    "split_source = (df.set_index(df.columns.drop('Source',1).tolist())\n",
    "                        .Source.str.split(', ', expand=True)\n",
    "                        .stack()\n",
    "                        .reset_index()\n",
    "                        .rename(columns={0:'Source'})\n",
    "                        .loc[:, df.columns])"
   ]
  },
  {
   "cell_type": "code",
   "execution_count": 540,
   "metadata": {},
   "outputs": [],
   "source": [
    "split_source[\"Courses_Helped\"] = split_source[\"Courses_Helped\"].replace(\"nan\", np.nan)\n",
    "split_source[\"Source\"] = split_source[\"Source\"].replace(\"nan\", np.nan)"
   ]
  },
  {
   "cell_type": "code",
   "execution_count": 541,
   "metadata": {},
   "outputs": [],
   "source": [
    "split_source = split_source.dropna()"
   ]
  },
  {
   "cell_type": "code",
   "execution_count": 542,
   "metadata": {},
   "outputs": [],
   "source": [
    "def Other(string):\n",
    "    if string not in [\"Internet\", \"Personal connection\", \"JSOM Handshake\", \"JSOM career event\", \"JSOM on-campus interview\", \"Faculty referral\"]:\n",
    "        source = \"Other\"\n",
    "    else:\n",
    "        source = string\n",
    "    \n",
    "    return source"
   ]
  },
  {
   "cell_type": "code",
   "execution_count": 543,
   "metadata": {},
   "outputs": [],
   "source": [
    "split_source[\"Source\"] = split_source[\"Source\"].apply(Other)"
   ]
  },
  {
   "cell_type": "code",
   "execution_count": 544,
   "metadata": {},
   "outputs": [
    {
     "data": {
      "text/html": [
       "<div>\n",
       "<style scoped>\n",
       "    .dataframe tbody tr th:only-of-type {\n",
       "        vertical-align: middle;\n",
       "    }\n",
       "\n",
       "    .dataframe tbody tr th {\n",
       "        vertical-align: top;\n",
       "    }\n",
       "\n",
       "    .dataframe thead th {\n",
       "        text-align: right;\n",
       "    }\n",
       "</style>\n",
       "<table border=\"1\" class=\"dataframe\">\n",
       "  <thead>\n",
       "    <tr style=\"text-align: right;\">\n",
       "      <th></th>\n",
       "      <th>Student</th>\n",
       "      <th>Degree</th>\n",
       "      <th>Company</th>\n",
       "      <th>Term</th>\n",
       "      <th>Courses_Helped</th>\n",
       "      <th>Source</th>\n",
       "      <th>Link</th>\n",
       "    </tr>\n",
       "  </thead>\n",
       "  <tbody>\n",
       "    <tr>\n",
       "      <td>0</td>\n",
       "      <td>Chakradhar Reddy Kothakapa</td>\n",
       "      <td>Business Analytics</td>\n",
       "      <td>American National Bank of Texas</td>\n",
       "      <td>Fall 2018</td>\n",
       "      <td>BUAN 6337: MKT PREDICTIVE ANALYTICS SAS</td>\n",
       "      <td>Internet</td>\n",
       "      <td>https://jindal.utdallas.edu/internship-stories...</td>\n",
       "    </tr>\n",
       "    <tr>\n",
       "      <td>1</td>\n",
       "      <td>Chakradhar Reddy Kothakapa</td>\n",
       "      <td>Business Analytics</td>\n",
       "      <td>American National Bank of Texas</td>\n",
       "      <td>Fall 2018</td>\n",
       "      <td>BUAN 6337: MKT PREDICTIVE ANALYTICS SAS</td>\n",
       "      <td>Personal connection</td>\n",
       "      <td>https://jindal.utdallas.edu/internship-stories...</td>\n",
       "    </tr>\n",
       "    <tr>\n",
       "      <td>4</td>\n",
       "      <td>Huizhen Chen</td>\n",
       "      <td>Business Analytics</td>\n",
       "      <td>East Capital Funding</td>\n",
       "      <td>Fall 2018</td>\n",
       "      <td>MIS 6380: DATA VISUALIZATION, OPRE 6302: OPERA...</td>\n",
       "      <td>JSOM Handshake</td>\n",
       "      <td>https://jindal.utdallas.edu/internship-stories...</td>\n",
       "    </tr>\n",
       "    <tr>\n",
       "      <td>5</td>\n",
       "      <td>Di Lei</td>\n",
       "      <td>Business Analytics</td>\n",
       "      <td>Alpha Business Images</td>\n",
       "      <td>Fall 2018</td>\n",
       "      <td>MIS 6344: WEB ANALYTICS</td>\n",
       "      <td>Internet</td>\n",
       "      <td>https://jindal.utdallas.edu/internship-stories...</td>\n",
       "    </tr>\n",
       "    <tr>\n",
       "      <td>6</td>\n",
       "      <td>Rahul Singh</td>\n",
       "      <td>Business Analytics</td>\n",
       "      <td>Adobe Systems</td>\n",
       "      <td>Fall 2018</td>\n",
       "      <td>BUAN 6337: MKT PREDICTIVE ANALYTICS SAS</td>\n",
       "      <td>Internet</td>\n",
       "      <td>https://jindal.utdallas.edu/internship-stories...</td>\n",
       "    </tr>\n",
       "  </tbody>\n",
       "</table>\n",
       "</div>"
      ],
      "text/plain": [
       "                      Student              Degree  \\\n",
       "0  Chakradhar Reddy Kothakapa  Business Analytics   \n",
       "1  Chakradhar Reddy Kothakapa  Business Analytics   \n",
       "4                Huizhen Chen  Business Analytics   \n",
       "5                      Di Lei  Business Analytics   \n",
       "6                 Rahul Singh  Business Analytics   \n",
       "\n",
       "                           Company       Term  \\\n",
       "0  American National Bank of Texas  Fall 2018   \n",
       "1  American National Bank of Texas  Fall 2018   \n",
       "4             East Capital Funding  Fall 2018   \n",
       "5            Alpha Business Images  Fall 2018   \n",
       "6                    Adobe Systems  Fall 2018   \n",
       "\n",
       "                                      Courses_Helped               Source  \\\n",
       "0            BUAN 6337: MKT PREDICTIVE ANALYTICS SAS             Internet   \n",
       "1            BUAN 6337: MKT PREDICTIVE ANALYTICS SAS  Personal connection   \n",
       "4  MIS 6380: DATA VISUALIZATION, OPRE 6302: OPERA...       JSOM Handshake   \n",
       "5                            MIS 6344: WEB ANALYTICS             Internet   \n",
       "6            BUAN 6337: MKT PREDICTIVE ANALYTICS SAS             Internet   \n",
       "\n",
       "                                                Link  \n",
       "0  https://jindal.utdallas.edu/internship-stories...  \n",
       "1  https://jindal.utdallas.edu/internship-stories...  \n",
       "4  https://jindal.utdallas.edu/internship-stories...  \n",
       "5  https://jindal.utdallas.edu/internship-stories...  \n",
       "6  https://jindal.utdallas.edu/internship-stories...  "
      ]
     },
     "execution_count": 544,
     "metadata": {},
     "output_type": "execute_result"
    }
   ],
   "source": [
    "split_source.head()"
   ]
  },
  {
   "cell_type": "code",
   "execution_count": 545,
   "metadata": {},
   "outputs": [
    {
     "data": {
      "text/plain": [
       "Internet                    685\n",
       "Personal connection         416\n",
       "JSOM Handshake              322\n",
       "JSOM career event           175\n",
       "Other                        77\n",
       "JSOM on-campus interview     63\n",
       "Faculty referral             62\n",
       "Name: Source, dtype: int64"
      ]
     },
     "execution_count": 545,
     "metadata": {},
     "output_type": "execute_result"
    }
   ],
   "source": [
    "split_source[\"Source\"].value_counts()"
   ]
  },
  {
   "cell_type": "code",
   "execution_count": 546,
   "metadata": {},
   "outputs": [],
   "source": [
    "split_source = split_source[split_source[\"Term\"] != \"Spring 2018\"]\n",
    "split_source = split_source[split_source[\"Term\"] != \"Summer 2018\"]"
   ]
  },
  {
   "cell_type": "code",
   "execution_count": 547,
   "metadata": {},
   "outputs": [
    {
     "data": {
      "text/plain": [
       "Fall 2019      516\n",
       "Summer 2019    436\n",
       "Spring 2019    428\n",
       "Fall 2018      397\n",
       "Spring 2020     17\n",
       "Name: Term, dtype: int64"
      ]
     },
     "execution_count": 547,
     "metadata": {},
     "output_type": "execute_result"
    }
   ],
   "source": [
    "split_source[\"Term\"].value_counts()"
   ]
  },
  {
   "cell_type": "code",
   "execution_count": 548,
   "metadata": {},
   "outputs": [],
   "source": [
    "split_source.to_excel(\"C:/Users/manis/Desktop/Scraper/sources.xlsx\")"
   ]
  }
 ],
 "metadata": {
  "kernelspec": {
   "display_name": "Python 3",
   "language": "python",
   "name": "python3"
  },
  "language_info": {
   "codemirror_mode": {
    "name": "ipython",
    "version": 3
   },
   "file_extension": ".py",
   "mimetype": "text/x-python",
   "name": "python",
   "nbconvert_exporter": "python",
   "pygments_lexer": "ipython3",
   "version": "3.7.4"
  }
 },
 "nbformat": 4,
 "nbformat_minor": 2
}
